{
 "cells": [
  {
   "cell_type": "markdown",
   "metadata": {},
   "source": [
    "# import thu vien"
   ]
  },
  {
   "cell_type": "code",
   "execution_count": 106,
   "metadata": {},
   "outputs": [],
   "source": [
    "from sympy import Matrix\n",
    "\n",
    "# Khai báo ma trận của bạn\n",
    "# Ví dụ: Ma trận A\n",
    "\n",
    "\n"
   ]
  },
  {
   "cell_type": "markdown",
   "metadata": {},
   "source": [
    "# Create matrix P"
   ]
  },
  {
   "cell_type": "code",
   "execution_count": 107,
   "metadata": {},
   "outputs": [
    {
     "data": {
      "text/plain": [
       "[[0, 1, 0, 0],\n",
       " [0.1111111111111111, 0.4444444444444445, 0.44444444444444453, 0],\n",
       " [0, 0.4444444444444444, 0.4444444444444445, 0.11111111111111113],\n",
       " [0, 0, 1, 0]]"
      ]
     },
     "execution_count": 107,
     "metadata": {},
     "output_type": "execute_result"
    }
   ],
   "source": [
    "def createP(n : int):\n",
    "    P = [[0]*(n+1) for i in range(n+1)]\n",
    "    #print(P)\n",
    "    P[0][1] = 1\n",
    "    for i in range(1,n):\n",
    "        P[i][i] = 2 * i * (1 - i/n) / n\n",
    "        P[i][i+1] = (1 - i/n) **2\n",
    "        P[i][i-1] = (i/n) **2\n",
    "    P[n][n-1] = 1\n",
    "    return P\n",
    "n_global = 3\n",
    "P = createP(n_global)  \n",
    "P     "
   ]
  },
  {
   "cell_type": "markdown",
   "metadata": {},
   "source": [
    "# cale eigenvects of P"
   ]
  },
  {
   "cell_type": "code",
   "execution_count": 108,
   "metadata": {},
   "outputs": [
    {
     "name": "stdout",
     "output_type": "stream",
     "text": [
      "Các giá trị riêng của ma trận A:\n",
      "{1.00000000000000: 1, 0.333333333333333: 1, -0.333333333333333: 1, -0.111111111111111: 1}\n"
     ]
    }
   ],
   "source": [
    "A = Matrix(P)\n",
    "A = A.T\n",
    "# Tính các giá trị riêng và vector riêng của A\n",
    "#eigenvalues, eigenvectors = LA.eig(np.diag((1, 2, 3)))\n",
    "eigenvalues = A.eigenvals()\n",
    "print(\"Các giá trị riêng của ma trận A:\")\n",
    "print(eigenvalues)\n",
    "eigenvectors = A.eigenvects()\n"
   ]
  },
  {
   "cell_type": "markdown",
   "metadata": {},
   "source": [
    "# Kiểm tra xem có tồn tại eigenval = 1"
   ]
  },
  {
   "cell_type": "code",
   "execution_count": 109,
   "metadata": {},
   "outputs": [],
   "source": [
    "flag = 0\n",
    "for eigval in eigenvalues:\n",
    "    if eigval == 1:\n",
    "        flag = 1\n",
    "        break"
   ]
  },
  {
   "cell_type": "markdown",
   "metadata": {},
   "source": [
    "# tính eigenvector ứng với eigenval = 1"
   ]
  },
  {
   "cell_type": "code",
   "execution_count": 110,
   "metadata": {},
   "outputs": [
    {
     "name": "stdout",
     "output_type": "stream",
     "text": [
      "Các eigenvectors ứng với eigenvalue 1:\n",
      "[Matrix([\n",
      "[0.078086880944303],\n",
      "[0.702781928498727],\n",
      "[0.702781928498727],\n",
      "[0.078086880944303]])]\n",
      "Vector Pi:\n",
      "[0.0500000000000000, 0.450000000000000, 0.450000000000000, 0.0500000000000000]\n"
     ]
    }
   ],
   "source": [
    "if flag :\n",
    "    for eigenvect in eigenvectors:\n",
    "        if eigenvect[0] == 1:\n",
    "            desired_eigenvectors = eigenvect[2]\n",
    "    print(\"Các eigenvectors ứng với eigenvalue 1:\")\n",
    "    print(desired_eigenvectors)\n",
    "    sum_card = 0\n",
    "    for elem in desired_eigenvectors[0]:\n",
    "        sum_card += elem\n",
    "    #sum_card = sum(desired_eigenvectors)\n",
    "    print(\"Vector Pi:\")\n",
    "    vec_pi = [a / sum_card for a in desired_eigenvectors[0]]\n",
    "    print(vec_pi)"
   ]
  },
  {
   "cell_type": "markdown",
   "metadata": {},
   "source": [
    "# Tìm formula Jordan of P"
   ]
  },
  {
   "cell_type": "code",
   "execution_count": 111,
   "metadata": {},
   "outputs": [
    {
     "name": "stdout",
     "output_type": "stream",
     "text": [
      "Ma trận P:\n",
      "Matrix([[-1.00000000000000, 1.00000000000000, -1.00000000000000, 1.00000000000000], [3.00000000000000, -1.00000000000000, -3.00000000000000, 9.00000000000000], [-3.00000000000000, -1.00000000000000, 3.00000000000000, 9.00000000000000], [1.00000000000000, 1.00000000000000, 1.00000000000000, 1.00000000000000]])\n",
      "\n",
      "Dạng Jordan J của ma trận:\n",
      "Matrix([[-0.333333333333333, 0, 0, 0], [0, -0.111111111111111, 0, 0], [0, 0, 0.333333333333333, 0], [0, 0, 0, 1.00000000000000]])\n"
     ]
    }
   ],
   "source": [
    "P, J = A.jordan_form()\n",
    "P_inv = P.inv()\n",
    "C = P @ J @ P_inv\n",
    "print(\"Ma trận P:\")\n",
    "print(P)\n",
    "print(\"\\nDạng Jordan J của ma trận:\")\n",
    "print(J)"
   ]
  }
 ],
 "metadata": {
  "kernelspec": {
   "display_name": "Python 3",
   "language": "python",
   "name": "python3"
  },
  "language_info": {
   "codemirror_mode": {
    "name": "ipython",
    "version": 3
   },
   "file_extension": ".py",
   "mimetype": "text/x-python",
   "name": "python",
   "nbconvert_exporter": "python",
   "pygments_lexer": "ipython3",
   "version": "3.12.2"
  }
 },
 "nbformat": 4,
 "nbformat_minor": 2
}
